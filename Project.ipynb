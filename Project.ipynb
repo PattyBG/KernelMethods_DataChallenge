{
 "cells": [
  {
   "cell_type": "code",
   "execution_count": 43,
   "metadata": {
    "collapsed": false
   },
   "outputs": [],
   "source": [
    "import matplotlib\n",
    "%matplotlib inline\n",
    "import pandas as pd\n",
    "import numpy as np\n",
    "import matplotlib.pyplot as plt\n",
    "import matplotlib.image as mpimg"
   ]
  },
  {
   "cell_type": "code",
   "execution_count": 67,
   "metadata": {
    "collapsed": true
   },
   "outputs": [],
   "source": [
    "path_to_data = '/Users/patrickbordes/Desktop/MVA/KernelMethods/Projet/';   #change this line\n",
    "training_df = pd.read_csv(path_to_data + 'Xtr.csv', sep=',', header=0)\n",
    "test_df = pd.read_csv(path_to_data + 'Xte.csv', sep=',', header=0)\n",
    "labels_df = pd.read_csv(path_to_data + 'Ytr.csv', sep=',', header=0)\n",
    "test = test_df.as_matrix()\n",
    "training = training_df.as_matrix()\n",
    "labels = labels_df.as_matrix()"
   ]
  },
  {
   "cell_type": "code",
   "execution_count": 73,
   "metadata": {
    "collapsed": false
   },
   "outputs": [],
   "source": [
    "N = len(training)\n",
    "img = np.zeros((32,32,3,N))\n",
    "for i in range(N):\n",
    "    im = training[i][1:]\n",
    "    img[:,:,0,i] = im[0:1024].reshape((32,32));\n",
    "    img[:,:,1,i] = im[1024:2048].reshape((32,32));\n",
    "    img[:,:,2,i] = im[2048:3072].reshape((32,32));"
   ]
  },
  {
   "cell_type": "code",
   "execution_count": 74,
   "metadata": {
    "collapsed": false
   },
   "outputs": [
    {
     "data": {
      "text/plain": [
       "<matplotlib.image.AxesImage at 0x110fabcc0>"
      ]
     },
     "execution_count": 74,
     "metadata": {},
     "output_type": "execute_result"
    },
    {
     "data": {
      "image/png": "[encoded data removed]",
      "text/plain": [
       "<matplotlib.figure.Figure at 0x110ebd940>"
      ]
     },
     "metadata": {},
     "output_type": "display_data"
    }
   ],
   "source": [
    "plt.imshow(img[:,:,:,1])"
   ]
  },
  {
   "cell_type": "code",
   "execution_count": null,
   "metadata": {
    "collapsed": true
   },
   "outputs": [],
   "source": []
  }
 ],
 "metadata": {
  "kernelspec": {
   "display_name": "Python 3",
   "language": "python",
   "name": "python3"
  },
  "language_info": {
   "codemirror_mode": {
    "name": "ipython",
    "version": 3
   },
   "file_extension": ".py",
   "mimetype": "text/x-python",
   "name": "python",
   "nbconvert_exporter": "python",
   "pygments_lexer": "ipython3",
   "version": "3.5.2"
  }
 },
 "nbformat": 4,
 "nbformat_minor": 2
}
